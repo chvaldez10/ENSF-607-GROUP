{
 "cells": [
  {
   "cell_type": "code",
   "execution_count": 1,
   "metadata": {},
   "outputs": [],
   "source": [
    "import json\n",
    "import math"
   ]
  },
  {
   "cell_type": "code",
   "execution_count": 2,
   "metadata": {},
   "outputs": [],
   "source": [
    "def read_data_from_file(filename):\n",
    "    \"\"\"\n",
    "    Reads data from a file and returns it as a string.\n",
    "    \"\"\"\n",
    "    with open(filename, 'r') as file:\n",
    "        return file.read()"
   ]
  },
  {
   "cell_type": "code",
   "execution_count": 3,
   "metadata": {},
   "outputs": [],
   "source": [
    "def parse_data(data):\n",
    "    \"\"\"\n",
    "    Parses the provided data into key-value pairs of zip code and borough.\n",
    "    Returns a dictionary of zip code: borough pairs, and lists of zip codes and boroughs.\n",
    "    \"\"\"\n",
    "    zip_borough_dict = {}\n",
    "    zip_codes = []\n",
    "    boroughs = set()\n",
    "\n",
    "    for line in data.splitlines():\n",
    "        zip_code, borough = line.split(\"\\t\")\n",
    "        zip_code = int(zip_code)  # Convert zip code to integer\n",
    "        zip_borough_dict[zip_code] = borough\n",
    "        zip_codes.append(zip_code)\n",
    "        boroughs.add(borough)\n",
    "\n",
    "    # Sort zip codes\n",
    "    zip_codes.sort()\n",
    "\n",
    "    # Create a sorted dictionary by zip code (key)\n",
    "    sorted_zip_borough_dict = {k: zip_borough_dict[k] for k in sorted(zip_borough_dict)}\n",
    "\n",
    "    return sorted_zip_borough_dict, zip_codes, list(boroughs)"
   ]
  },
  {
   "cell_type": "code",
   "execution_count": 4,
   "metadata": {},
   "outputs": [],
   "source": [
    "def parse_neighborhood_data(data):\n",
    "    \"\"\"\n",
    "    Parses the provided data into key-value pairs of zip code and [UHF, neighborhood name].\n",
    "    Returns a dictionary of these pairs.\n",
    "    \"\"\"\n",
    "    neighborhood_dict = {}\n",
    "    all_zip_codes = []\n",
    "\n",
    "    for line in data.splitlines():\n",
    "        parts = line.split(', ')\n",
    "        uhf, neighborhood = parts[0], parts[1]\n",
    "        zip_codes = parts[2:]\n",
    "\n",
    "        for zip_code in zip_codes:\n",
    "            neighborhood_dict[zip_code] = [uhf, neighborhood]\n",
    "            all_zip_codes.append(zip_code)\n",
    "\n",
    "    return neighborhood_dict, all_zip_codes"
   ]
  },
  {
   "cell_type": "code",
   "execution_count": 5,
   "metadata": {},
   "outputs": [],
   "source": [
    "def parse_zip_code_data(text):\n",
    "    result = {}\n",
    "    lines = text.split('\\n')\n",
    "    for line in lines:\n",
    "        if line.strip():  # Check if line is not empty\n",
    "            zip_code, latitude, longitude = [item.strip() for item in line.split(',')]\n",
    "            if latitude not in result:\n",
    "                result[latitude] = {}\n",
    "            result[latitude][longitude] = zip_code\n",
    "    return result"
   ]
  },
  {
   "cell_type": "code",
   "execution_count": 6,
   "metadata": {},
   "outputs": [],
   "source": [
    "def save_to_json(data, filename):\n",
    "    \"\"\"\n",
    "    Saves the provided data to a JSON file.\n",
    "    \"\"\"\n",
    "    with open(filename, \"w\") as f:\n",
    "        json.dump(data, f, indent=4)\n"
   ]
  },
  {
   "cell_type": "code",
   "execution_count": 7,
   "metadata": {},
   "outputs": [],
   "source": [
    "file_path = \"all_zip.txt\"\n",
    "data = read_data_from_file(file_path)\n",
    "zip_borough_dict, zip_codes, boroughs = parse_data(data)\n",
    "save_to_json(zip_borough_dict, \"zip_borough.json\")"
   ]
  },
  {
   "cell_type": "code",
   "execution_count": 8,
   "metadata": {},
   "outputs": [],
   "source": [
    "file_path = \"all_uhf.txt\"\n",
    "data = read_data_from_file(file_path)\n",
    "neighborhood_dict, zip_codes = parse_neighborhood_data(data)\n",
    "save_to_json(neighborhood_dict, \"neighborhood_data.json\")"
   ]
  },
  {
   "cell_type": "code",
   "execution_count": 9,
   "metadata": {},
   "outputs": [],
   "source": [
    "file_path = \"all_coordinates.txt\"\n",
    "file_content = read_data_from_file(file_path)\n",
    "parsed_data = parse_zip_code_data(file_content)\n",
    "save_to_json(parsed_data, \"coordinates.json\")"
   ]
  },
  {
   "cell_type": "code",
   "execution_count": 38,
   "metadata": {},
   "outputs": [
    {
     "name": "stdout",
     "output_type": "stream",
     "text": [
      "The nearest zip code is: 10038\n"
     ]
    }
   ],
   "source": [
    "from geopy.distance import geodesic\n",
    "\n",
    "def read_zipcode_file(filename):\n",
    "    \"\"\"Reads the zip code data from a file and returns a mapping of zip codes to coordinates.\"\"\"\n",
    "    zipcode_mapping = {}\n",
    "\n",
    "    with open(filename, 'r') as file:\n",
    "        for line in file:\n",
    "            zip_code, lat, lon = line.strip().split(', ')\n",
    "            lat_lon = (float(lat), float(lon))\n",
    "            zipcode_mapping[zip_code] = lat_lon\n",
    "\n",
    "    return zipcode_mapping\n",
    "\n",
    "def find_nearest_zipcode(target_lat, target_lon, zipcode_mapping):\n",
    "    \"\"\"Finds the nearest zip code to the given latitude and longitude.\"\"\"\n",
    "    nearest_zip = None\n",
    "    shortest_distance = None\n",
    "\n",
    "    for zip_code, (zip_lat, zip_lon) in zipcode_mapping.items():\n",
    "        distance = geodesic((target_lat, target_lon), (zip_lat, zip_lon)).miles\n",
    "        if shortest_distance is None or distance < shortest_distance:\n",
    "            nearest_zip = zip_code\n",
    "            shortest_distance = distance\n",
    "\n",
    "    return nearest_zip\n",
    "\n",
    "file_path = \"all_coordinates.txt\"\n",
    "zipcode_mapping = read_zipcode_file(file_path)\n",
    "\n",
    "lat, lon = 40.710087, -74.00533\n",
    "nearest_zip = find_nearest_zipcode(lat, lon, zipcode_mapping)\n",
    "print(f\"The nearest zip code is: {nearest_zip}\")\n"
   ]
  },
  {
   "cell_type": "code",
   "execution_count": 35,
   "metadata": {},
   "outputs": [],
   "source": [
    "# (40.76394, -74.97903)\n",
    "# expected: 10019 - outlier\n",
    "\n",
    "# (40.710087, -74.00533)\n",
    "# expected: 10038\n",
    "\n",
    "# (40.680252, -73.94954)\n",
    "# expected: 11216\n",
    "\n",
    "# (40.6923, -73.98285)\n",
    "# expected: 11201\n",
    "\n",
    "# (40.713013, -74.00398)\n",
    "# expected: 10007 or 10278\n",
    "\n",
    "# (40.74987, -73.983765)\n",
    "# expected: 10018 or 10165"
   ]
  },
  {
   "cell_type": "code",
   "execution_count": 3,
   "metadata": {},
   "outputs": [],
   "source": [
    "import findspark\n",
    "findspark.init()\n",
    "\n",
    "from pyspark.sql import SparkSession\n",
    "\n",
    "spark = SparkSession.builder.appName(\"test\").getOrCreate()\n",
    "df = spark.createDataFrame([(1, \"foo\"), (2, \"bar\")], [\"id\", \"label\"])\n",
    "\n",
    "pandas_df = df.toPandas()\n",
    "\n",
    "# Specify the path where you want to save the CSV file\n",
    "output_path = \"output.csv\"\n",
    "\n",
    "# Save the Pandas DataFrame as a CSV file\n",
    "pandas_df.to_csv(output_path, index=False)\n"
   ]
  }
 ],
 "metadata": {
  "kernelspec": {
   "display_name": "Python 3",
   "language": "python",
   "name": "python3"
  },
  "language_info": {
   "codemirror_mode": {
    "name": "ipython",
    "version": 3
   },
   "file_extension": ".py",
   "mimetype": "text/x-python",
   "name": "python",
   "nbconvert_exporter": "python",
   "pygments_lexer": "ipython3",
   "version": "3.10.11"
  }
 },
 "nbformat": 4,
 "nbformat_minor": 2
}
