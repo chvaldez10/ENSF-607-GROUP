{
 "cells": [
  {
   "cell_type": "code",
   "execution_count": 80,
   "metadata": {},
   "outputs": [],
   "source": [
    "import json\n",
    "import math"
   ]
  },
  {
   "cell_type": "code",
   "execution_count": 65,
   "metadata": {},
   "outputs": [],
   "source": [
    "def read_data_from_file(filename):\n",
    "    \"\"\"\n",
    "    Reads data from a file and returns it as a string.\n",
    "    \"\"\"\n",
    "    with open(filename, 'r') as file:\n",
    "        return file.read()"
   ]
  },
  {
   "cell_type": "code",
   "execution_count": 66,
   "metadata": {},
   "outputs": [],
   "source": [
    "def parse_data(data):\n",
    "    \"\"\"\n",
    "    Parses the provided data into key-value pairs of zip code and borough.\n",
    "    Returns a dictionary of zip code: borough pairs, and lists of zip codes and boroughs.\n",
    "    \"\"\"\n",
    "    zip_borough_dict = {}\n",
    "    zip_codes = []\n",
    "    boroughs = set()\n",
    "\n",
    "    for line in data.splitlines():\n",
    "        zip_code, borough = line.split(\"\\t\")\n",
    "        zip_code = int(zip_code)  # Convert zip code to integer\n",
    "        zip_borough_dict[zip_code] = borough\n",
    "        zip_codes.append(zip_code)\n",
    "        boroughs.add(borough)\n",
    "\n",
    "    # Sort zip codes\n",
    "    zip_codes.sort()\n",
    "\n",
    "    # Create a sorted dictionary by zip code (key)\n",
    "    sorted_zip_borough_dict = {k: zip_borough_dict[k] for k in sorted(zip_borough_dict)}\n",
    "\n",
    "    return sorted_zip_borough_dict, zip_codes, list(boroughs)"
   ]
  },
  {
   "cell_type": "code",
   "execution_count": 67,
   "metadata": {},
   "outputs": [],
   "source": [
    "def parse_neighborhood_data(data):\n",
    "    \"\"\"\n",
    "    Parses the provided data into key-value pairs of zip code and [UHF, neighborhood name].\n",
    "    Returns a dictionary of these pairs.\n",
    "    \"\"\"\n",
    "    neighborhood_dict = {}\n",
    "    all_zip_codes = []\n",
    "\n",
    "    for line in data.splitlines():\n",
    "        parts = line.split(', ')\n",
    "        uhf, neighborhood = parts[0], parts[1]\n",
    "        zip_codes = parts[2:]\n",
    "\n",
    "        for zip_code in zip_codes:\n",
    "            neighborhood_dict[zip_code] = [uhf, neighborhood]\n",
    "            all_zip_codes.append(zip_code)\n",
    "\n",
    "    return neighborhood_dict, all_zip_codes"
   ]
  },
  {
   "cell_type": "code",
   "execution_count": 73,
   "metadata": {},
   "outputs": [],
   "source": [
    "def parse_zip_code_data(text):\n",
    "    result = {}\n",
    "    lines = text.split('\\n')\n",
    "    for line in lines:\n",
    "        if line.strip():  # Check if line is not empty\n",
    "            zip_code, latitude, longitude = [item.strip() for item in line.split(',')]\n",
    "            if latitude not in result:\n",
    "                result[latitude] = {}\n",
    "            result[latitude][longitude] = zip_code\n",
    "    return result"
   ]
  },
  {
   "cell_type": "code",
   "execution_count": 68,
   "metadata": {},
   "outputs": [],
   "source": [
    "def save_to_json(data, filename):\n",
    "    \"\"\"\n",
    "    Saves the provided data to a JSON file.\n",
    "    \"\"\"\n",
    "    with open(filename, \"w\") as f:\n",
    "        json.dump(data, f, indent=4)\n"
   ]
  },
  {
   "cell_type": "code",
   "execution_count": 69,
   "metadata": {},
   "outputs": [],
   "source": [
    "file_path = \"all_zip.txt\"\n",
    "data = read_data_from_file(file_path)\n",
    "zip_borough_dict, zip_codes, boroughs = parse_data(data)\n",
    "save_to_json(zip_borough_dict, \"zip_borough.json\")"
   ]
  },
  {
   "cell_type": "code",
   "execution_count": 70,
   "metadata": {},
   "outputs": [],
   "source": [
    "file_path = \"all_uhf.txt\"\n",
    "data = read_data_from_file(file_path)\n",
    "neighborhood_dict, zip_codes = parse_neighborhood_data(data)\n",
    "save_to_json(neighborhood_dict, \"neighborhood_data.json\")"
   ]
  },
  {
   "cell_type": "code",
   "execution_count": 74,
   "metadata": {},
   "outputs": [],
   "source": [
    "file_path = \"all_coordinates.txt\"\n",
    "file_content = read_data_from_file(file_path)\n",
    "parsed_data = parse_zip_code_data(file_content)\n",
    "save_to_json(parsed_data, \"coordinates.json\")"
   ]
  },
  {
   "cell_type": "code",
   "execution_count": 75,
   "metadata": {},
   "outputs": [],
   "source": [
    "def haversine(coord1, coord2):\n",
    "    # Radius of the Earth in kilometers\n",
    "    R = 6371.0\n",
    "\n",
    "    lat1, lon1 = coord1\n",
    "    lat2, lon2 = coord2\n",
    "\n",
    "    # Convert coordinates from degrees to radians\n",
    "    lat1, lon1, lat2, lon2 = map(math.radians, [lat1, lon1, lat2, lon2])\n",
    "\n",
    "    # Haversine formula\n",
    "    dlon = lon2 - lon1\n",
    "    dlat = lat2 - lat1\n",
    "    a = math.sin(dlat / 2)**2 + math.cos(lat1) * math.cos(lat2) * math.sin(dlon / 2)**2\n",
    "    c = 2 * math.atan2(math.sqrt(a), math.sqrt(1 - a))\n",
    "\n",
    "    # Distance in kilometers\n",
    "    distance = R * c\n",
    "    return distance"
   ]
  },
  {
   "cell_type": "code",
   "execution_count": 116,
   "metadata": {},
   "outputs": [
    {
     "name": "stdout",
     "output_type": "stream",
     "text": [
      "10988\n"
     ]
    }
   ],
   "source": [
    "from scipy.spatial import KDTree\n",
    "\n",
    "def create_zip_code_kd_tree(file_content):\n",
    "    coordinates = []\n",
    "    zip_codes = {}\n",
    "    lines = file_content.split('\\n')\n",
    "    for line in lines:\n",
    "        if line.strip():  # Check if line is not empty\n",
    "            zip_code, latitude, longitude = [item.strip() for item in line.split(',')]\n",
    "            coords = (float(latitude), float(longitude))\n",
    "            coordinates.append(coords)\n",
    "            zip_codes[coords] = zip_code\n",
    "\n",
    "    # Create a k-d tree for coordinates\n",
    "    tree = KDTree(coordinates)\n",
    "    return tree, zip_codes\n",
    "\n",
    "def get_closest_zip_code(tree, zip_codes, latitude, longitude):\n",
    "    query_coords = (latitude, longitude)\n",
    "    # Find the index of the closest point in the k-d tree\n",
    "    _, idx = tree.query(query_coords)\n",
    "    closest_coords = tree.data[idx]\n",
    "    return zip_codes[tuple(closest_coords)]\n",
    "\n",
    "# Example Usage\n",
    "file_content = read_data_from_file(file_path)\n",
    "tree, zip_codes = create_zip_code_kd_tree(file_content)\n",
    "zip_code = get_closest_zip_code(tree, zip_codes, 40.76394, -74.97903)\n",
    "print(zip_code)\n"
   ]
  },
  {
   "cell_type": "code",
   "execution_count": 113,
   "metadata": {},
   "outputs": [
    {
     "name": "stdout",
     "output_type": "stream",
     "text": [
      "10307\n"
     ]
    }
   ],
   "source": [
    "# zip_code = get_closest_zip_code(zip_code_map, 40.76394, -74.97903)\n",
    "# print(zip_code)"
   ]
  }
 ],
 "metadata": {
  "kernelspec": {
   "display_name": "Python 3",
   "language": "python",
   "name": "python3"
  },
  "language_info": {
   "codemirror_mode": {
    "name": "ipython",
    "version": 3
   },
   "file_extension": ".py",
   "mimetype": "text/x-python",
   "name": "python",
   "nbconvert_exporter": "python",
   "pygments_lexer": "ipython3",
   "version": "3.10.11"
  }
 },
 "nbformat": 4,
 "nbformat_minor": 2
}
